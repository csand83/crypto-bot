{
  "nbformat": 4,
  "nbformat_minor": 0,
  "metadata": {
    "colab": {
      "name": "model3_kfold.ipynb",
      "provenance": [],
      "collapsed_sections": []
    },
    "kernelspec": {
      "name": "python3",
      "display_name": "Python 3"
    },
    "language_info": {
      "name": "python"
    },
    "accelerator": "GPU"
  },
  "cells": [
    {
      "cell_type": "code",
      "metadata": {
        "id": "sfwZbBSN6dnu"
      },
      "source": [
        "from sklearn import preprocessing\n",
        "from sklearn.model_selection import KFold\n",
        "from collections import deque\n",
        "from datetime import datetime\n",
        "import random\n",
        "import time\n",
        "import numpy as np\n",
        "import pandas as pd\n",
        "import tensorflow as tf\n",
        "from tensorflow import keras\n",
        "from tensorflow.keras.models import Sequential\n",
        "from tensorflow.keras.layers import Dense, Dropout, LSTM, BatchNormalization\n",
        "from tensorflow.python.keras.layers import CuDNNLSTM\n",
        "from tensorflow.keras.callbacks import ModelCheckpoint, EarlyStopping\n",
        "\n",
        "drive_path = f'drive/MyDrive/Colab Notebooks/crypto_prediction/model3/'"
      ],
      "execution_count": null,
      "outputs": []
    },
    {
      "cell_type": "code",
      "metadata": {
        "id": "SYa7ACGv6xuU"
      },
      "source": [
        "pd.set_option('display.max_columns', None)\n",
        "pd.set_option('display.expand_frame_repr', False)\n",
        "\n",
        "# ratios = [\"BTCUSDT\", \"ETHUSDT\", \"NANOUSDT\"]\n",
        "ratios = [\"BTCUSDT\", \"LTCUSDT\", \"ETHUSDT\", \"BNBUSDT\",\n",
        "          \"ADAUSDT\", \"BTTUSDT\", \"DASHUSDT\", \"XMRUSDT\",\n",
        "          \"NANOUSDT\", \"DOGEUSDT\", \"XLMUSDT\", \"BCHUSDT\"]\n",
        "RATIO_TO_PREDICT = \"BTCUSDT\"\n",
        "\n",
        "NUM_FOLDS = 5  # for 10 we got val (input[test] of 10-fold) acc ~0.70 and test acc ~0.52. Overfiting to \"val\" set. Use 5, so its like 20% used for val\n",
        "SEQ_LEN = 48\n",
        "FUTURE_PERIOD_PREDICT = 1\n",
        "EPOCHS = 40 # 12 # 40\n",
        "BATCH_SIZE = 64\n",
        "current_time = datetime.utcnow().strftime('%Y-%m-%d %H-%M-%S')\n",
        "NAME = f\"LSTM-{current_time}\"\n",
        "\n",
        "acc_per_fold = []\n",
        "loss_per_fold = []\n",
        "kfold = KFold(n_splits=NUM_FOLDS, shuffle=True)\n",
        "\n",
        "def construct_main_df(ratios):\n",
        "    main_df = pd.DataFrame()\n",
        "    # 'unix,date,symbol,open,high,low,close,Volume LTC,Volume USDT,tradecount'\n",
        "    for ratio in ratios:\n",
        "        dataset = f\"{drive_path}data/Binance_{ratio}_1h.csv\"\n",
        "        df = pd.read_csv(dataset, nrows=None, skiprows=None, parse_dates=['date'], usecols=[0, 1, 2])  # todo\n",
        "        df.set_index(\"date\", inplace=True)\n",
        "\n",
        "        if len(main_df) == 0:\n",
        "            main_df = df\n",
        "        else:\n",
        "            main_df = main_df.join(df)\n",
        "\n",
        "    # in this case it reduces main_df length to the length of pair with the smallest data\n",
        "    main_df.dropna(how='any', inplace=True)\n",
        "\n",
        "    # we determine targets by making ['future'] column with shifted rows,\n",
        "    # and then if its price is higher than current day setting ['target'] to 1, and 0 otherwise\n",
        "    main_df['future'] = main_df[f\"{RATIO_TO_PREDICT}_close\"].shift(-FUTURE_PERIOD_PREDICT)\n",
        "    main_df['target'] = list(map(classify, main_df[f\"{RATIO_TO_PREDICT}_close\"], main_df[\"future\"]))\n",
        "    main_df.drop('future', 1, inplace=True)  # future column is no longer needed, used only to determine target column\n",
        "    # rows with future = NaN also are dropped here\n",
        "    return main_df\n",
        "\n",
        "def classify(current, future):\n",
        "    return 1 if float(future) > float(current) else 0\n",
        "\n",
        "\n",
        "# in k-fold we dont need validation set\n",
        "def split_main_df(main_df, train_split, test_split):\n",
        "    # [train train train train_index val val val val_index test test test_index]\n",
        "    train_index = int(train_split * len(main_df))  # last indexes\n",
        "    test_index = test_split  # we don't really need to use it, its always the last index\n",
        "\n",
        "    train_df = main_df.iloc[:train_index]\n",
        "    test_df = main_df.iloc[train_index:]\n",
        "    return train_df, test_df\n",
        "\n",
        "# percentage change and scaling\n",
        "def preprocess_data(df):\n",
        "    df = df.copy()  # fixes random SettingWithCopyWarning appearing with pct_change and preprocessing.scale\n",
        "    for col in df.columns:\n",
        "        if col != \"target\":\n",
        "            df[col] = df[col].pct_change()  # converted to percentage change\n",
        "            # example:\n",
        "            # hour 1:00 close = 93.13, hour 2:00 close = 92.41, so\n",
        "            # 93.13 + 93.13 * x = 92.41, x = -0.007731\n",
        "            # so percentage change of 1.0 means doubling the price\n",
        "            # first row (the oldest values) is being filled with NaN percentage, but we don't want to drop whole row yet\n",
        "            # so we wait until loop ends (we will have whole row filled with nans)\n",
        "    df.dropna(inplace=True)\n",
        "    # print('b', df.shape, df.isnull().values.any())\n",
        "    for col in df.columns:\n",
        "        if col != \"target\":\n",
        "            # scaling should be used after splitting to training and test set - leaks data from test set to training\n",
        "            df[col] = preprocessing.scale(df[col].values)  # normalizes to [-1, +1]\n",
        "            # df[col] = preprocessing.StandardScaler().fit_transform(df[col].values.reshape(-1, 1)) # it does the same\n",
        "            # scales the data so it has mean = 0, standard deviation = 1, variance = 1\n",
        "            # it can be checked before and after with e.g. print(df['BTCUSDT_close'].mean())  .std()  .var()\n",
        "\n",
        "    sequential_data = []\n",
        "    prev_days = deque(maxlen=SEQ_LEN)  # list of SEQ_LEN items, we append to it, as it exceed, it pops old values\n",
        "\n",
        "    for i in df.values:\n",
        "        prev_days.append([n for n in i[:-1]])  # set of price and volume features added (-1 so without target)\n",
        "        if len(prev_days) == SEQ_LEN:\n",
        "            sequential_data.append([np.array(prev_days), i[-1]])\n",
        "    # print(len(sequential_data))\n",
        "    # ok so the sequences are like this ([a, b, 1] is single prev_days) (* and ^ just to point where it goes):\n",
        "    # [([[a, b] [c, d], [e, f]], 1*)   ([[c, d] [e, f] [g, h]], 1) ... ([[g, h], [i, j], [k, l]], 0^)]\n",
        "    random.shuffle(sequential_data)\n",
        "\n",
        "\n",
        "    buys = []  # list that will store our buy sequences and targets\n",
        "    sells = []  # list that will store our sell sequences and targets\n",
        "\n",
        "    for seq, target in sequential_data:  # iterate over the sequential data\n",
        "        if target == 0:  # if it's a \"not buy\"\n",
        "            sells.append([seq, target])  # append to sells list\n",
        "        elif target == 1:  # otherwise if the target is a 1...\n",
        "            buys.append([seq, target])  # it's a buy!\n",
        "\n",
        "    random.shuffle(buys)  # shuffle the buys\n",
        "    random.shuffle(sells)  # shuffle the sells\n",
        "\n",
        "    lower = min(len(buys), len(sells))  # what's the shorter length?\n",
        "\n",
        "    buys = buys[:lower]  # make sure both lists are only up to the shortest length.\n",
        "    sells = sells[:lower]  # make sure both lists are only up to the shortest length.\n",
        "\n",
        "    sequential_data = buys + sells  # concatenate lists\n",
        "    random.shuffle(\n",
        "        sequential_data)  # another shuffle, so the model doesn't get confused with all 1 class then the other.\n",
        "\n",
        "    x = []\n",
        "    y = []\n",
        "\n",
        "    for seq, target in sequential_data:\n",
        "        x.append(seq)\n",
        "        y.append(target)\n",
        "    return np.array(x), np.array(y)"
      ],
      "execution_count": null,
      "outputs": []
    },
    {
      "cell_type": "code",
      "metadata": {
        "id": "FY9cXsAF64Uq",
        "colab": {
          "base_uri": "https://localhost:8080/"
        },
        "outputId": "b566df64-2e8b-4938-c8f4-4437ec503987"
      },
      "source": [
        "time0 = time.perf_counter()\n",
        "main_df = construct_main_df(ratios)\n",
        "print(main_df.shape)\n",
        "time1 = time.perf_counter()\n",
        "# print(time1 - time0)\n",
        "\n",
        "train_df, test_df = split_main_df(main_df, train_split=0.8, test_split=0.2)\n",
        "print(train_df.shape, test_df.shape)\n",
        "time2 = time.perf_counter()\n",
        "# print(time2 - time1)\n",
        "\n",
        "train_x, train_y = preprocess_data(train_df)\n",
        "test_x, test_y = preprocess_data(test_df)\n",
        "time3 = time.perf_counter()\n",
        "print(train_x.shape, train_y.shape, test_x.shape, test_y.shape,)\n",
        "# print(time3 - time2)"
      ],
      "execution_count": null,
      "outputs": [
        {
          "output_type": "stream",
          "text": [
            "(15737, 25)\n",
            "(12589, 25) (3148, 25)\n",
            "(12440, 48, 24) (12440,) (3066, 48, 24) (3066,)\n"
          ],
          "name": "stdout"
        }
      ]
    },
    {
      "cell_type": "code",
      "metadata": {
        "id": "JJKJcltc7kDx"
      },
      "source": [
        "def build_model():\n",
        "    model = Sequential()\n",
        "    model.add(LSTM(128, input_shape=(train_x.shape[1:]), return_sequences=True))\n",
        "    # i cannot save CuDNNLSTM due to some error, not using it\n",
        "    # model.add(CuDNNLSTM(128, input_shape=(train_x.shape[1:]), return_sequences=True))\n",
        "    model.add(Dropout(0.2))\n",
        "    model.add(BatchNormalization())\n",
        "\n",
        "    model.add(LSTM(128, input_shape=(train_x.shape[1:]), return_sequences=True))\n",
        "    model.add(Dropout(0.1))\n",
        "    model.add(BatchNormalization())\n",
        "\n",
        "    model.add(LSTM(128, input_shape=(train_x.shape[1:])))\n",
        "    model.add(Dropout(0.2))\n",
        "    model.add(BatchNormalization())\n",
        "\n",
        "    model.add(Dense(32, activation=\"relu\"))\n",
        "    model.add(Dropout(0.2))\n",
        "\n",
        "    model.add(Dense(2, activation=\"softmax\"))\n",
        "\n",
        "    opt = tf.keras.optimizers.Adam(learning_rate=0.001, decay=1e-6)\n",
        "    # opt = tf.keras.optimizers.Adam()\n",
        "\n",
        "    model.compile(loss = \"sparse_categorical_crossentropy\", \n",
        "                  optimizer=opt,\n",
        "                  metrics=['accuracy'])\n",
        "    # print(model.summary())\n",
        "    return model\n"
      ],
      "execution_count": null,
      "outputs": []
    },
    {
      "cell_type": "code",
      "metadata": {
        "colab": {
          "base_uri": "https://localhost:8080/"
        },
        "id": "HwV1fg6uttcy",
        "outputId": "ed7bbc35-1e42-4a17-c82b-df0cd53bb575"
      },
      "source": [
        "print(train_x.shape)\n",
        "\n",
        "\n",
        "FINAL_PRODUCTION_TRAINING = True  # set manually!\n",
        "\n",
        "if FINAL_PRODUCTION_TRAINING is False:\n",
        "  # this way we can use test_x and test_y as final evaluation after k-fold\n",
        "  inputs = train_x\n",
        "  targets = train_y\n",
        "elif FINAL_PRODUCTION_TRAINING is True:\n",
        "  # this way we cant make that final evaluation, and rely on average score from k-fold\n",
        "  inputs = np.concatenate((train_x, test_x), axis=0)\n",
        "  targets = np.concatenate((train_y, test_y), axis=0)\n",
        "\n",
        "# production model training should be performed with train_x with 100% of main_df. we can expect its results close to average score from k-fold evals\n",
        "fold_no = 1\n",
        "for train, test in kfold.split(inputs, targets):\n",
        "    model = build_model()\n",
        "\n",
        "    checkpoint = ModelCheckpoint(filepath=f\"models/{NAME}\", monitor='val_accuracy', verbose=1, save_best_only=True, mode='max') # saves only the best ones\n",
        "    earlystopping = EarlyStopping(monitor='accuracy', patience=4)  # todo val_loss not available for EarlyStopping callback\n",
        "    cb = [earlystopping]\n",
        "    print('------------------------------------------------------------------------')\n",
        "    print(f'Training for fold {fold_no} ...')\n",
        "    history = model.fit(\n",
        "            inputs[train], targets[train],\n",
        "            batch_size=BATCH_SIZE,\n",
        "            epochs=EPOCHS,\n",
        "            verbose=0,\n",
        "            # validation_data=(validation_x, validation_y),\n",
        "            callbacks=cb)\n",
        "    \n",
        "    scores = model.evaluate(inputs[test], targets[test], verbose=0)  # input[test] is like validation set, its part of training set\n",
        "    print(f'Score for fold {fold_no}: {model.metrics_names[0]} of {scores[0]}; {model.metrics_names[1]} of {scores[1]*100}%')\n",
        "    acc_per_fold.append(scores[1] * 100)\n",
        "    loss_per_fold.append(scores[0])\n",
        "\n",
        "    # Increase fold number\n",
        "    fold_no = fold_no + 1\n",
        "\n",
        "\n"
      ],
      "execution_count": null,
      "outputs": [
        {
          "output_type": "stream",
          "text": [
            "(12440, 48, 24)\n",
            "------------------------------------------------------------------------\n",
            "Training for fold 1 ...\n",
            "Score for fold 1: loss of 1.3445900678634644; accuracy of 63.7653112411499%\n",
            "------------------------------------------------------------------------\n",
            "Training for fold 2 ...\n",
            "Score for fold 2: loss of 1.2719135284423828; accuracy of 64.75330591201782%\n",
            "------------------------------------------------------------------------\n",
            "Training for fold 3 ...\n",
            "Score for fold 3: loss of 1.3596887588500977; accuracy of 65.07578492164612%\n",
            "------------------------------------------------------------------------\n",
            "Training for fold 4 ...\n",
            "Score for fold 4: loss of 1.2974392175674438; accuracy of 62.59270906448364%\n",
            "------------------------------------------------------------------------\n",
            "Training for fold 5 ...\n",
            "Score for fold 5: loss of 1.2682578563690186; accuracy of 65.68848490715027%\n"
          ],
          "name": "stdout"
        }
      ]
    },
    {
      "cell_type": "code",
      "metadata": {
        "colab": {
          "base_uri": "https://localhost:8080/"
        },
        "id": "naOrFdKs7TRw",
        "outputId": "51cb67dd-c6fe-4262-c4db-c9cf310233c5"
      },
      "source": [
        "# == Provide average scores ==\n",
        "print('------------------------------------------------------------------------')\n",
        "print('Score per fold')\n",
        "for i in range(0, len(acc_per_fold)):\n",
        "  print('------------------------------------------------------------------------')\n",
        "  print(f'> Fold {i+1} - Loss: {loss_per_fold[i]} - Accuracy: {acc_per_fold[i]}%')\n",
        "print('------------------------------------------------------------------------')\n",
        "print('Average scores for all folds:')\n",
        "print(f'> Accuracy: {np.mean(acc_per_fold)} (+- {np.std(acc_per_fold)})')\n",
        "print(f'> Loss: {np.mean(loss_per_fold)}')\n",
        "print('------------------------------------------------------------------------')\n"
      ],
      "execution_count": null,
      "outputs": [
        {
          "output_type": "stream",
          "text": [
            "------------------------------------------------------------------------\n",
            "Score per fold\n",
            "------------------------------------------------------------------------\n",
            "> Fold 1 - Loss: 1.3445900678634644 - Accuracy: 63.7653112411499%\n",
            "------------------------------------------------------------------------\n",
            "> Fold 2 - Loss: 1.2719135284423828 - Accuracy: 64.75330591201782%\n",
            "------------------------------------------------------------------------\n",
            "> Fold 3 - Loss: 1.3596887588500977 - Accuracy: 65.07578492164612%\n",
            "------------------------------------------------------------------------\n",
            "> Fold 4 - Loss: 1.2974392175674438 - Accuracy: 62.59270906448364%\n",
            "------------------------------------------------------------------------\n",
            "> Fold 5 - Loss: 1.2682578563690186 - Accuracy: 65.68848490715027%\n",
            "------------------------------------------------------------------------\n",
            "Average scores for all folds:\n",
            "> Accuracy: 64.37511920928955 (+- 1.0869902263795579)\n",
            "> Loss: 1.3083778858184814\n",
            "------------------------------------------------------------------------\n"
          ],
          "name": "stdout"
        }
      ]
    },
    {
      "cell_type": "code",
      "metadata": {
        "id": "Eye28PNHttoz",
        "colab": {
          "base_uri": "https://localhost:8080/",
          "height": 556
        },
        "outputId": "a38c3822-9b2d-4a31-b534-f63468fa653d"
      },
      "source": [
        "def plot_history(history):\n",
        "        hist_df = pd.DataFrame(history.history)\n",
        "        print(f'Trained model:')\n",
        "        print(hist_df.tail(1), '\\n')\n",
        "        hist_df_short = hist_df[['accuracy', 'loss']]\n",
        "        hist_df_short.plot(figsize=(8,8), grid=True)\n",
        "\n",
        "plot_history(history)"
      ],
      "execution_count": null,
      "outputs": [
        {
          "output_type": "stream",
          "text": [
            "Trained model:\n",
            "        loss  accuracy\n",
            "39  0.124177  0.950181 \n",
            "\n"
          ],
          "name": "stdout"
        },
        {
          "output_type": "display_data",
          "data": {
            "image/png": "[encoded data removed]",
            "text/plain": [
              "<Figure size 576x576 with 1 Axes>"
            ]
          },
          "metadata": {
            "needs_background": "light"
          }
        }
      ]
    },
    {
      "cell_type": "code",
      "metadata": {
        "id": "suv_B7cOvYq8",
        "colab": {
          "base_uri": "https://localhost:8080/"
        },
        "outputId": "8f339af5-0531-4546-a2eb-f6a69b5c8697"
      },
      "source": [
        "model_path = f'{drive_path}models/{NAME}'\n",
        "model.save(model_path)\n",
        "\n",
        "model = keras.models.load_model(model_path)\n",
        "score = model.evaluate(test_x, test_y, verbose=10)  # evaluate against unseen test data\n",
        "print(\"TEST LOSS:\", score[0])\n",
        "print(\"TEST ACCURACY:\", score[1])"
      ],
      "execution_count": null,
      "outputs": [
        {
          "output_type": "stream",
          "text": [
            "WARNING:absl:Found untraced functions such as lstm_cell_15_layer_call_and_return_conditional_losses, lstm_cell_15_layer_call_fn, lstm_cell_16_layer_call_and_return_conditional_losses, lstm_cell_16_layer_call_fn, lstm_cell_17_layer_call_and_return_conditional_losses while saving (showing 5 of 15). These functions will not be directly callable after loading.\n"
          ],
          "name": "stderr"
        },
        {
          "output_type": "stream",
          "text": [
            "INFO:tensorflow:Assets written to: drive/MyDrive/Colab Notebooks/crypto_prediction/model3/models/LSTM-2021-08-23 20-19-28/assets\n"
          ],
          "name": "stdout"
        },
        {
          "output_type": "stream",
          "text": [
            "INFO:tensorflow:Assets written to: drive/MyDrive/Colab Notebooks/crypto_prediction/model3/models/LSTM-2021-08-23 20-19-28/assets\n"
          ],
          "name": "stderr"
        },
        {
          "output_type": "stream",
          "text": [
            "TEST LOSS: 0.3757164478302002\n",
            "TEST ACCURACY: 0.8891063332557678\n"
          ],
          "name": "stdout"
        }
      ]
    },
    {
      "cell_type": "code",
      "metadata": {
        "id": "xd9UqtJ1hmSD"
      },
      "source": [
        "converter = tf.lite.TFLiteConverter.from_saved_model(model_path)  # path to the SavedModel directory\n",
        "tflite_model = converter.convert()"
      ],
      "execution_count": null,
      "outputs": []
    },
    {
      "cell_type": "code",
      "metadata": {
        "colab": {
          "base_uri": "https://localhost:8080/"
        },
        "id": "8q4GjSyVy5em",
        "outputId": "d93c7889-ea51-4b1e-d3ce-a83e02a37528"
      },
      "source": [
        "with open(f'{model_path}.tflite', 'wb') as f:\n",
        "    f.write(tflite_model)\n",
        "    print(\"Finished\")\n",
        "    f.close()"
      ],
      "execution_count": null,
      "outputs": [
        {
          "output_type": "stream",
          "text": [
            "Finished\n"
          ],
          "name": "stdout"
        }
      ]
    },
    {
      "cell_type": "code",
      "metadata": {
        "id": "epvKcKD1zX0f"
      },
      "source": [
        ""
      ],
      "execution_count": null,
      "outputs": []
    }
  ]
}