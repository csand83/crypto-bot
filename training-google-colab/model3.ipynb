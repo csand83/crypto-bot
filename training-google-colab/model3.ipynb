{
 "cells": [
  {
   "cell_type": "code",
   "execution_count": 4,
   "metadata": {
    "id": "sfwZbBSN6dnu"
   },
   "outputs": [],
   "source": [
    "from sklearn import preprocessing\n",
    "from collections import deque\n",
    "from datetime import datetime\n",
    "import random\n",
    "import time\n",
    "import numpy as np\n",
    "import pandas as pd\n",
    "import tensorflow as tf\n",
    "from tensorflow import keras\n",
    "from tensorflow.keras.models import Sequential\n",
    "from tensorflow.keras.layers import Dense, Dropout, LSTM, BatchNormalization\n",
    "from tensorflow.python.keras.layers import CuDNNLSTM\n",
    "from tensorflow.keras.callbacks import ModelCheckpoint, EarlyStopping\n",
    "\n",
    "drive_path = f'/home/csand/crypto-bot/'"
   ]
  },
  {
   "cell_type": "code",
   "execution_count": 5,
   "metadata": {
    "id": "SYa7ACGv6xuU"
   },
   "outputs": [],
   "source": [
    "pd.set_option('display.max_columns', None)\n",
    "pd.set_option('display.expand_frame_repr', False)\n",
    "\n",
    "# ratios = [\"BTCUSDT\", \"ETHUSDT\", \"NANOUSDT\"]\n",
    "ratios = [\"BTCUSDT\", \"LTCUSDT\", \"ETHUSDT\", \"BNBUSDT\",\n",
    "          \"ADAUSDT\", \"BTTUSDT\", \"DASHUSDT\", \"XMRUSDT\",\n",
    "          \"NANOUSDT\", \"DOGEUSDT\", \"XLMUSDT\", \"BCHUSDT\"]\n",
    "RATIO_TO_PREDICT = \"BTCUSDT\"\n",
    "\n",
    "SEQ_LEN = 48\n",
    "FUTURE_PERIOD_PREDICT = 1\n",
    "EPOCHS = 40\n",
    "BATCH_SIZE = 64\n",
    "current_time = datetime.utcnow().strftime('%Y-%m-%d %H-%M-%S')\n",
    "NAME = f\"LSTM-{current_time}\"\n",
    "\n",
    "def construct_main_df(ratios):\n",
    "    main_df = pd.DataFrame()\n",
    "    # 'unix,date,symbol,open,high,low,close,Volume LTC,Volume USDT,tradecount'\n",
    "    for ratio in ratios:\n",
    "        dataset = f\"{drive_path}data/Binance_{ratio}_1h.csv\"\n",
    "        df = pd.read_csv(dataset, nrows=None, skiprows=None, parse_dates=['date'], usecols=[0, 1, 2])  # todo\n",
    "        df.set_index(\"date\", inplace=True)\n",
    "\n",
    "        if len(main_df) == 0:\n",
    "            main_df = df\n",
    "        else:\n",
    "            main_df = main_df.join(df)\n",
    "\n",
    "    # in this case it reduces main_df length to the length of pair with the smallest data\n",
    "    main_df.dropna(how='any', inplace=True)\n",
    "\n",
    "    # we determine targets by making ['future'] column with shifted rows,\n",
    "    # and then if its price is higher than current day setting ['target'] to 1, and 0 otherwise\n",
    "    main_df['future'] = main_df[f\"{RATIO_TO_PREDICT}_close\"].shift(-FUTURE_PERIOD_PREDICT)\n",
    "    main_df['target'] = list(map(classify, main_df[f\"{RATIO_TO_PREDICT}_close\"], main_df[\"future\"]))\n",
    "    main_df.drop('future', 1, inplace=True)  # future column is no longer needed, used only to determine target column\n",
    "    # rows with future = NaN also are dropped here\n",
    "    return main_df\n",
    "\n",
    "def classify(current, future):\n",
    "    return 1 if float(future) > float(current) else 0\n",
    "\n",
    "def split_main_df(main_df, train_split, validation_split, test_split):\n",
    "    # [train train train train_index val val val val_index test test test_index]\n",
    "    train_index = int(train_split * len(main_df))  # last indexes\n",
    "    validation_index = int(train_index + validation_split * len(main_df))\n",
    "    test_index = test_split  # we don't really need to use it, its always the last index\n",
    "\n",
    "    train_df = main_df.iloc[:train_index]\n",
    "    validation_df = main_df.iloc[train_index:validation_index]\n",
    "    test_df = main_df.iloc[validation_index:]\n",
    "    return train_df, validation_df, test_df\n",
    "\n",
    "# percentage change and scaling\n",
    "def preprocess_data(df):\n",
    "    df = df.copy()  # fixes random SettingWithCopyWarning appearing with pct_change and preprocessing.scale\n",
    "    for col in df.columns:\n",
    "        if col != \"target\":\n",
    "            df[col] = df[col].pct_change()  # converted to percentage change\n",
    "            # example:\n",
    "            # hour 1:00 close = 93.13, hour 2:00 close = 92.41, so\n",
    "            # 93.13 + 93.13 * x = 92.41, x = -0.007731\n",
    "            # so percentage change of 1.0 means doubling the price\n",
    "            # first row (the oldest values) is being filled with NaN percentage, but we don't want to drop whole row yet\n",
    "            # so we wait until loop ends (we will have whole row filled with nans)\n",
    "    df.dropna(inplace=True)\n",
    "    # print('b', df.shape, df.isnull().values.any())\n",
    "    for col in df.columns:\n",
    "        if col != \"target\":\n",
    "            # scaling should be used after splitting to training and test set - leaks data from test set to training\n",
    "            df[col] = preprocessing.scale(df[col].values)  # normalizes to [-1, +1]\n",
    "            # df[col] = preprocessing.StandardScaler().fit_transform(df[col].values.reshape(-1, 1)) # it does the same\n",
    "            # scales the data so it has mean = 0, standard deviation = 1, variance = 1\n",
    "            # it can be checked before and after with e.g. print(df['BTCUSDT_close'].mean())  .std()  .var()\n",
    "\n",
    "    sequential_data = []\n",
    "    prev_days = deque(maxlen=SEQ_LEN)  # list of SEQ_LEN items, we append to it, as it exceed, it pops old values\n",
    "\n",
    "    for i in df.values:\n",
    "        prev_days.append([n for n in i[:-1]])  # set of price and volume features added (-1 so without target)\n",
    "        if len(prev_days) == SEQ_LEN:\n",
    "            sequential_data.append([np.array(prev_days), i[-1]])\n",
    "    # print(len(sequential_data))\n",
    "    # ok so the sequences are like this ([a, b, 1] is single prev_days) (* and ^ just to point where it goes):\n",
    "    # [([[a, b] [c, d], [e, f]], 1*)   ([[c, d] [e, f] [g, h]], 1) ... ([[g, h], [i, j], [k, l]], 0^)]\n",
    "    random.shuffle(sequential_data)\n",
    "\n",
    "\n",
    "    buys = []  # list that will store our buy sequences and targets\n",
    "    sells = []  # list that will store our sell sequences and targets\n",
    "\n",
    "    for seq, target in sequential_data:  # iterate over the sequential data\n",
    "        if target == 0:  # if it's a \"not buy\"\n",
    "            sells.append([seq, target])  # append to sells list\n",
    "        elif target == 1:  # otherwise if the target is a 1...\n",
    "            buys.append([seq, target])  # it's a buy!\n",
    "\n",
    "    random.shuffle(buys)  # shuffle the buys\n",
    "    random.shuffle(sells)  # shuffle the sells\n",
    "\n",
    "    lower = min(len(buys), len(sells))  # what's the shorter length?\n",
    "\n",
    "    buys = buys[:lower]  # make sure both lists are only up to the shortest length.\n",
    "    sells = sells[:lower]  # make sure both lists are only up to the shortest length.\n",
    "\n",
    "    sequential_data = buys + sells  # concatenate lists\n",
    "    random.shuffle(\n",
    "        sequential_data)  # another shuffle, so the model doesn't get confused with all 1 class then the other.\n",
    "\n",
    "    x = []\n",
    "    y = []\n",
    "\n",
    "    for seq, target in sequential_data:\n",
    "        x.append(seq)\n",
    "        y.append(target)\n",
    "    return np.array(x), np.array(y)"
   ]
  },
  {
   "cell_type": "code",
   "execution_count": 6,
   "metadata": {
    "colab": {
     "base_uri": "https://localhost:8080/"
    },
    "id": "FY9cXsAF64Uq",
    "outputId": "d7263d26-d264-4fec-92a6-d99f22a2bc5b"
   },
   "outputs": [
    {
     "name": "stderr",
     "output_type": "stream",
     "text": [
      "/tmp/ipykernel_3576361/60053384.py:37: FutureWarning: In a future version of pandas all arguments of DataFrame.drop except for the argument 'labels' will be keyword-only\n",
      "  main_df.drop('future', 1, inplace=True)  # future column is no longer needed, used only to determine target column\n"
     ]
    },
    {
     "name": "stdout",
     "output_type": "stream",
     "text": [
      "(21884, 25)\n",
      "0.9603793229907751\n",
      "(13130, 25) (4376, 25) (4378, 25)\n",
      "0.037155180936679244\n",
      "(13004, 48, 24) (13004,) (4220, 48, 24) (4220,) (404, 48, 24) (404,)\n",
      "4.556970745092258\n"
     ]
    }
   ],
   "source": [
    "time0 = time.perf_counter()\n",
    "main_df = construct_main_df(ratios)\n",
    "print(main_df.shape)\n",
    "time1 = time.perf_counter()\n",
    "print(time1 - time0)\n",
    "\n",
    "train_df, validation_df, test_df = split_main_df(main_df, train_split=0.6, validation_split=0.2, test_split=0.2)\n",
    "print(train_df.shape, validation_df.shape, test_df.shape)\n",
    "time2 = time.perf_counter()\n",
    "print(time2 - time1)\n",
    "\n",
    "train_x, train_y = preprocess_data(train_df)\n",
    "validation_x, validation_y = preprocess_data(validation_df)\n",
    "test_x, test_y = preprocess_data(test_df)\n",
    "time3 = time.perf_counter()\n",
    "print(train_x.shape, train_y.shape, validation_x.shape, validation_y.shape, test_x.shape, test_y.shape,)\n",
    "print(time3 - time2)"
   ]
  },
  {
   "cell_type": "code",
   "execution_count": 7,
   "metadata": {
    "colab": {
     "base_uri": "https://localhost:8080/"
    },
    "id": "JJKJcltc7kDx",
    "outputId": "382dadb1-3de1-44fc-c440-aba94c06f01f"
   },
   "outputs": [
    {
     "name": "stderr",
     "output_type": "stream",
     "text": [
      "2021-11-17 08:39:37.886408: W tensorflow/stream_executor/platform/default/dso_loader.cc:64] Could not load dynamic library 'libcuda.so.1'; dlerror: libcuda.so.1: cannot open shared object file: No such file or directory\n",
      "2021-11-17 08:39:37.886585: W tensorflow/stream_executor/cuda/cuda_driver.cc:269] failed call to cuInit: UNKNOWN ERROR (303)\n",
      "2021-11-17 08:39:37.886696: I tensorflow/stream_executor/cuda/cuda_diagnostics.cc:156] kernel driver does not appear to be running on this host (vmi566227.contaboserver.net): /proc/driver/nvidia/version does not exist\n",
      "2021-11-17 08:39:37.887706: I tensorflow/core/platform/cpu_feature_guard.cc:151] This TensorFlow binary is optimized with oneAPI Deep Neural Network Library (oneDNN) to use the following CPU instructions in performance-critical operations:  AVX2 FMA\n",
      "To enable them in other operations, rebuild TensorFlow with the appropriate compiler flags.\n"
     ]
    },
    {
     "name": "stdout",
     "output_type": "stream",
     "text": [
      "Model: \"sequential\"\n",
      "_________________________________________________________________\n",
      " Layer (type)                Output Shape              Param #   \n",
      "=================================================================\n",
      " lstm (LSTM)                 (None, 48, 128)           78336     \n",
      "                                                                 \n",
      " dropout (Dropout)           (None, 48, 128)           0         \n",
      "                                                                 \n",
      " batch_normalization (BatchN  (None, 48, 128)          512       \n",
      " ormalization)                                                   \n",
      "                                                                 \n",
      " lstm_1 (LSTM)               (None, 48, 128)           131584    \n",
      "                                                                 \n",
      " dropout_1 (Dropout)         (None, 48, 128)           0         \n",
      "                                                                 \n",
      " batch_normalization_1 (Batc  (None, 48, 128)          512       \n",
      " hNormalization)                                                 \n",
      "                                                                 \n",
      " lstm_2 (LSTM)               (None, 128)               131584    \n",
      "                                                                 \n",
      " dropout_2 (Dropout)         (None, 128)               0         \n",
      "                                                                 \n",
      " batch_normalization_2 (Batc  (None, 128)              512       \n",
      " hNormalization)                                                 \n",
      "                                                                 \n",
      " dense (Dense)               (None, 32)                4128      \n",
      "                                                                 \n",
      " dropout_3 (Dropout)         (None, 32)                0         \n",
      "                                                                 \n",
      " dense_1 (Dense)             (None, 2)                 66        \n",
      "                                                                 \n",
      "=================================================================\n",
      "Total params: 347,234\n",
      "Trainable params: 346,466\n",
      "Non-trainable params: 768\n",
      "_________________________________________________________________\n",
      "None\n"
     ]
    }
   ],
   "source": [
    "def build_model():\n",
    "    model = Sequential()\n",
    "    model.add(LSTM(128, input_shape=(train_x.shape[1:]), return_sequences=True))\n",
    "    # i cannot save CuDNNLSTM due to some error, not using it\n",
    "    # model.add(CuDNNLSTM(128, input_shape=(train_x.shape[1:]), return_sequences=True))\n",
    "    model.add(Dropout(0.2))\n",
    "    model.add(BatchNormalization())\n",
    "\n",
    "    model.add(LSTM(128, input_shape=(train_x.shape[1:]), return_sequences=True))\n",
    "    model.add(Dropout(0.1))\n",
    "    model.add(BatchNormalization())\n",
    "\n",
    "    model.add(LSTM(128, input_shape=(train_x.shape[1:])))\n",
    "    model.add(Dropout(0.2))\n",
    "    model.add(BatchNormalization())\n",
    "\n",
    "    model.add(Dense(32, activation=\"relu\"))\n",
    "    model.add(Dropout(0.2))\n",
    "\n",
    "    model.add(Dense(2, activation=\"softmax\"))\n",
    "\n",
    "    opt = tf.keras.optimizers.Adam(learning_rate=0.001, decay=1e-6)\n",
    "    # opt = tf.keras.optimizers.Adam()\n",
    "\n",
    "    model.compile(loss = \"sparse_categorical_crossentropy\", \n",
    "                  optimizer=opt,\n",
    "                  metrics=['accuracy'])\n",
    "\n",
    "    print(model.summary())\n",
    "    return model\n",
    "model = build_model()"
   ]
  },
  {
   "cell_type": "code",
   "execution_count": 8,
   "metadata": {
    "colab": {
     "base_uri": "https://localhost:8080/"
    },
    "id": "HwV1fg6uttcy",
    "outputId": "007144f2-b485-4dc2-d998-666f4781a6a9"
   },
   "outputs": [
    {
     "name": "stdout",
     "output_type": "stream",
     "text": [
      "Epoch 1/40\n",
      "204/204 [==============================] - ETA: 0s - loss: 0.7588 - accuracy: 0.5386\n",
      "Epoch 00001: val_accuracy improved from -inf to 0.51469, saving model to models/LSTM-2021-11-17 07-39-18\n"
     ]
    },
    {
     "name": "stderr",
     "output_type": "stream",
     "text": [
      "2021-11-17 08:43:25.332771: W tensorflow/python/util/util.cc:368] Sets are not currently considered sequences, but this may change in the future, so consider avoiding using them.\n",
      "WARNING:absl:Found untraced functions such as lstm_cell_layer_call_fn, lstm_cell_layer_call_and_return_conditional_losses, lstm_cell_1_layer_call_fn, lstm_cell_1_layer_call_and_return_conditional_losses, lstm_cell_2_layer_call_fn while saving (showing 5 of 15). These functions will not be directly callable after loading.\n"
     ]
    },
    {
     "name": "stdout",
     "output_type": "stream",
     "text": [
      "INFO:tensorflow:Assets written to: models/LSTM-2021-11-17 07-39-18/assets\n"
     ]
    },
    {
     "name": "stderr",
     "output_type": "stream",
     "text": [
      "INFO:tensorflow:Assets written to: models/LSTM-2021-11-17 07-39-18/assets\n",
      "WARNING:absl:<keras.layers.recurrent.LSTMCell object at 0x7f538f779910> has the same name 'LSTMCell' as a built-in Keras object. Consider renaming <class 'keras.layers.recurrent.LSTMCell'> to avoid naming conflicts when loading with `tf.keras.models.load_model`. If renaming is not possible, pass the object in the `custom_objects` parameter of the load function.\n",
      "WARNING:absl:<keras.layers.recurrent.LSTMCell object at 0x7f538f766b20> has the same name 'LSTMCell' as a built-in Keras object. Consider renaming <class 'keras.layers.recurrent.LSTMCell'> to avoid naming conflicts when loading with `tf.keras.models.load_model`. If renaming is not possible, pass the object in the `custom_objects` parameter of the load function.\n",
      "WARNING:absl:<keras.layers.recurrent.LSTMCell object at 0x7f538f6a4370> has the same name 'LSTMCell' as a built-in Keras object. Consider renaming <class 'keras.layers.recurrent.LSTMCell'> to avoid naming conflicts when loading with `tf.keras.models.load_model`. If renaming is not possible, pass the object in the `custom_objects` parameter of the load function.\n"
     ]
    },
    {
     "name": "stdout",
     "output_type": "stream",
     "text": [
      "204/204 [==============================] - 232s 1s/step - loss: 0.7588 - accuracy: 0.5386 - val_loss: 0.6919 - val_accuracy: 0.5147\n",
      "Epoch 2/40\n",
      "204/204 [==============================] - ETA: 0s - loss: 0.6364 - accuracy: 0.6089\n",
      "Epoch 00002: val_accuracy did not improve from 0.51469\n",
      "204/204 [==============================] - 189s 925ms/step - loss: 0.6364 - accuracy: 0.6089 - val_loss: 0.6932 - val_accuracy: 0.5109\n",
      "Epoch 3/40\n",
      "204/204 [==============================] - ETA: 0s - loss: 0.5635 - accuracy: 0.6609\n",
      "Epoch 00003: val_accuracy improved from 0.51469 to 0.54408, saving model to models/LSTM-2021-11-17 07-39-18\n"
     ]
    },
    {
     "name": "stderr",
     "output_type": "stream",
     "text": [
      "WARNING:absl:Found untraced functions such as lstm_cell_layer_call_fn, lstm_cell_layer_call_and_return_conditional_losses, lstm_cell_1_layer_call_fn, lstm_cell_1_layer_call_and_return_conditional_losses, lstm_cell_2_layer_call_fn while saving (showing 5 of 15). These functions will not be directly callable after loading.\n"
     ]
    },
    {
     "name": "stdout",
     "output_type": "stream",
     "text": [
      "INFO:tensorflow:Assets written to: models/LSTM-2021-11-17 07-39-18/assets\n"
     ]
    },
    {
     "name": "stderr",
     "output_type": "stream",
     "text": [
      "INFO:tensorflow:Assets written to: models/LSTM-2021-11-17 07-39-18/assets\n",
      "WARNING:absl:<keras.layers.recurrent.LSTMCell object at 0x7f538f779910> has the same name 'LSTMCell' as a built-in Keras object. Consider renaming <class 'keras.layers.recurrent.LSTMCell'> to avoid naming conflicts when loading with `tf.keras.models.load_model`. If renaming is not possible, pass the object in the `custom_objects` parameter of the load function.\n",
      "WARNING:absl:<keras.layers.recurrent.LSTMCell object at 0x7f538f766b20> has the same name 'LSTMCell' as a built-in Keras object. Consider renaming <class 'keras.layers.recurrent.LSTMCell'> to avoid naming conflicts when loading with `tf.keras.models.load_model`. If renaming is not possible, pass the object in the `custom_objects` parameter of the load function.\n",
      "WARNING:absl:<keras.layers.recurrent.LSTMCell object at 0x7f538f6a4370> has the same name 'LSTMCell' as a built-in Keras object. Consider renaming <class 'keras.layers.recurrent.LSTMCell'> to avoid naming conflicts when loading with `tf.keras.models.load_model`. If renaming is not possible, pass the object in the `custom_objects` parameter of the load function.\n"
     ]
    },
    {
     "name": "stdout",
     "output_type": "stream",
     "text": [
      "204/204 [==============================] - 207s 1s/step - loss: 0.5635 - accuracy: 0.6609 - val_loss: 0.6762 - val_accuracy: 0.5441\n",
      "Epoch 4/40\n",
      "204/204 [==============================] - ETA: 0s - loss: 0.5443 - accuracy: 0.6797\n",
      "Epoch 00004: val_accuracy did not improve from 0.54408\n",
      "204/204 [==============================] - 188s 922ms/step - loss: 0.5443 - accuracy: 0.6797 - val_loss: 0.6927 - val_accuracy: 0.5095\n",
      "Epoch 5/40\n",
      "204/204 [==============================] - ETA: 0s - loss: 0.5327 - accuracy: 0.6876\n",
      "Epoch 00005: val_accuracy improved from 0.54408 to 0.54550, saving model to models/LSTM-2021-11-17 07-39-18\n"
     ]
    },
    {
     "name": "stderr",
     "output_type": "stream",
     "text": [
      "WARNING:absl:Found untraced functions such as lstm_cell_layer_call_fn, lstm_cell_layer_call_and_return_conditional_losses, lstm_cell_1_layer_call_fn, lstm_cell_1_layer_call_and_return_conditional_losses, lstm_cell_2_layer_call_fn while saving (showing 5 of 15). These functions will not be directly callable after loading.\n"
     ]
    },
    {
     "name": "stdout",
     "output_type": "stream",
     "text": [
      "INFO:tensorflow:Assets written to: models/LSTM-2021-11-17 07-39-18/assets\n"
     ]
    },
    {
     "name": "stderr",
     "output_type": "stream",
     "text": [
      "INFO:tensorflow:Assets written to: models/LSTM-2021-11-17 07-39-18/assets\n",
      "WARNING:absl:<keras.layers.recurrent.LSTMCell object at 0x7f538f779910> has the same name 'LSTMCell' as a built-in Keras object. Consider renaming <class 'keras.layers.recurrent.LSTMCell'> to avoid naming conflicts when loading with `tf.keras.models.load_model`. If renaming is not possible, pass the object in the `custom_objects` parameter of the load function.\n",
      "WARNING:absl:<keras.layers.recurrent.LSTMCell object at 0x7f538f766b20> has the same name 'LSTMCell' as a built-in Keras object. Consider renaming <class 'keras.layers.recurrent.LSTMCell'> to avoid naming conflicts when loading with `tf.keras.models.load_model`. If renaming is not possible, pass the object in the `custom_objects` parameter of the load function.\n",
      "WARNING:absl:<keras.layers.recurrent.LSTMCell object at 0x7f538f6a4370> has the same name 'LSTMCell' as a built-in Keras object. Consider renaming <class 'keras.layers.recurrent.LSTMCell'> to avoid naming conflicts when loading with `tf.keras.models.load_model`. If renaming is not possible, pass the object in the `custom_objects` parameter of the load function.\n"
     ]
    },
    {
     "name": "stdout",
     "output_type": "stream",
     "text": [
      "204/204 [==============================] - 215s 1s/step - loss: 0.5327 - accuracy: 0.6876 - val_loss: 0.6751 - val_accuracy: 0.5455\n",
      "Epoch 6/40\n",
      "204/204 [==============================] - ETA: 0s - loss: 0.5270 - accuracy: 0.6902\n",
      "Epoch 00006: val_accuracy did not improve from 0.54550\n",
      "204/204 [==============================] - 188s 924ms/step - loss: 0.5270 - accuracy: 0.6902 - val_loss: 0.6765 - val_accuracy: 0.5412\n",
      "Epoch 7/40\n",
      "204/204 [==============================] - ETA: 0s - loss: 0.5196 - accuracy: 0.7009\n",
      "Epoch 00007: val_accuracy improved from 0.54550 to 0.55237, saving model to models/LSTM-2021-11-17 07-39-18\n"
     ]
    },
    {
     "name": "stderr",
     "output_type": "stream",
     "text": [
      "WARNING:absl:Found untraced functions such as lstm_cell_layer_call_fn, lstm_cell_layer_call_and_return_conditional_losses, lstm_cell_1_layer_call_fn, lstm_cell_1_layer_call_and_return_conditional_losses, lstm_cell_2_layer_call_fn while saving (showing 5 of 15). These functions will not be directly callable after loading.\n"
     ]
    },
    {
     "name": "stdout",
     "output_type": "stream",
     "text": [
      "INFO:tensorflow:Assets written to: models/LSTM-2021-11-17 07-39-18/assets\n"
     ]
    },
    {
     "name": "stderr",
     "output_type": "stream",
     "text": [
      "INFO:tensorflow:Assets written to: models/LSTM-2021-11-17 07-39-18/assets\n",
      "WARNING:absl:<keras.layers.recurrent.LSTMCell object at 0x7f538f779910> has the same name 'LSTMCell' as a built-in Keras object. Consider renaming <class 'keras.layers.recurrent.LSTMCell'> to avoid naming conflicts when loading with `tf.keras.models.load_model`. If renaming is not possible, pass the object in the `custom_objects` parameter of the load function.\n",
      "WARNING:absl:<keras.layers.recurrent.LSTMCell object at 0x7f538f766b20> has the same name 'LSTMCell' as a built-in Keras object. Consider renaming <class 'keras.layers.recurrent.LSTMCell'> to avoid naming conflicts when loading with `tf.keras.models.load_model`. If renaming is not possible, pass the object in the `custom_objects` parameter of the load function.\n",
      "WARNING:absl:<keras.layers.recurrent.LSTMCell object at 0x7f538f6a4370> has the same name 'LSTMCell' as a built-in Keras object. Consider renaming <class 'keras.layers.recurrent.LSTMCell'> to avoid naming conflicts when loading with `tf.keras.models.load_model`. If renaming is not possible, pass the object in the `custom_objects` parameter of the load function.\n"
     ]
    },
    {
     "name": "stdout",
     "output_type": "stream",
     "text": [
      "204/204 [==============================] - 208s 1s/step - loss: 0.5196 - accuracy: 0.7009 - val_loss: 0.6743 - val_accuracy: 0.5524\n",
      "Epoch 8/40\n",
      "204/204 [==============================] - ETA: 0s - loss: 0.5166 - accuracy: 0.6939\n",
      "Epoch 00008: val_accuracy improved from 0.55237 to 0.55924, saving model to models/LSTM-2021-11-17 07-39-18\n"
     ]
    },
    {
     "name": "stderr",
     "output_type": "stream",
     "text": [
      "WARNING:absl:Found untraced functions such as lstm_cell_layer_call_fn, lstm_cell_layer_call_and_return_conditional_losses, lstm_cell_1_layer_call_fn, lstm_cell_1_layer_call_and_return_conditional_losses, lstm_cell_2_layer_call_fn while saving (showing 5 of 15). These functions will not be directly callable after loading.\n"
     ]
    },
    {
     "name": "stdout",
     "output_type": "stream",
     "text": [
      "INFO:tensorflow:Assets written to: models/LSTM-2021-11-17 07-39-18/assets\n"
     ]
    },
    {
     "name": "stderr",
     "output_type": "stream",
     "text": [
      "INFO:tensorflow:Assets written to: models/LSTM-2021-11-17 07-39-18/assets\n",
      "WARNING:absl:<keras.layers.recurrent.LSTMCell object at 0x7f538f779910> has the same name 'LSTMCell' as a built-in Keras object. Consider renaming <class 'keras.layers.recurrent.LSTMCell'> to avoid naming conflicts when loading with `tf.keras.models.load_model`. If renaming is not possible, pass the object in the `custom_objects` parameter of the load function.\n",
      "WARNING:absl:<keras.layers.recurrent.LSTMCell object at 0x7f538f766b20> has the same name 'LSTMCell' as a built-in Keras object. Consider renaming <class 'keras.layers.recurrent.LSTMCell'> to avoid naming conflicts when loading with `tf.keras.models.load_model`. If renaming is not possible, pass the object in the `custom_objects` parameter of the load function.\n",
      "WARNING:absl:<keras.layers.recurrent.LSTMCell object at 0x7f538f6a4370> has the same name 'LSTMCell' as a built-in Keras object. Consider renaming <class 'keras.layers.recurrent.LSTMCell'> to avoid naming conflicts when loading with `tf.keras.models.load_model`. If renaming is not possible, pass the object in the `custom_objects` parameter of the load function.\n"
     ]
    },
    {
     "name": "stdout",
     "output_type": "stream",
     "text": [
      "204/204 [==============================] - 210s 1s/step - loss: 0.5166 - accuracy: 0.6939 - val_loss: 0.6732 - val_accuracy: 0.5592\n",
      "Epoch 9/40\n",
      "204/204 [==============================] - ETA: 0s - loss: 0.5057 - accuracy: 0.7075\n",
      "Epoch 00009: val_accuracy did not improve from 0.55924\n",
      "204/204 [==============================] - 184s 904ms/step - loss: 0.5057 - accuracy: 0.7075 - val_loss: 0.6780 - val_accuracy: 0.5275\n",
      "Epoch 10/40\n",
      "204/204 [==============================] - ETA: 0s - loss: 0.4968 - accuracy: 0.7138\n",
      "Epoch 00010: val_accuracy did not improve from 0.55924\n",
      "204/204 [==============================] - 187s 918ms/step - loss: 0.4968 - accuracy: 0.7138 - val_loss: 0.6789 - val_accuracy: 0.5365\n",
      "Epoch 11/40\n",
      "204/204 [==============================] - ETA: 0s - loss: 0.4972 - accuracy: 0.7134\n",
      "Epoch 00011: val_accuracy did not improve from 0.55924\n",
      "204/204 [==============================] - 186s 913ms/step - loss: 0.4972 - accuracy: 0.7134 - val_loss: 0.6730 - val_accuracy: 0.5581\n",
      "Epoch 12/40\n",
      "204/204 [==============================] - ETA: 0s - loss: 0.4906 - accuracy: 0.7197\n",
      "Epoch 00012: val_accuracy improved from 0.55924 to 0.56066, saving model to models/LSTM-2021-11-17 07-39-18\n"
     ]
    },
    {
     "name": "stderr",
     "output_type": "stream",
     "text": [
      "WARNING:absl:Found untraced functions such as lstm_cell_layer_call_fn, lstm_cell_layer_call_and_return_conditional_losses, lstm_cell_1_layer_call_fn, lstm_cell_1_layer_call_and_return_conditional_losses, lstm_cell_2_layer_call_fn while saving (showing 5 of 15). These functions will not be directly callable after loading.\n"
     ]
    },
    {
     "name": "stdout",
     "output_type": "stream",
     "text": [
      "INFO:tensorflow:Assets written to: models/LSTM-2021-11-17 07-39-18/assets\n"
     ]
    },
    {
     "name": "stderr",
     "output_type": "stream",
     "text": [
      "INFO:tensorflow:Assets written to: models/LSTM-2021-11-17 07-39-18/assets\n",
      "WARNING:absl:<keras.layers.recurrent.LSTMCell object at 0x7f538f779910> has the same name 'LSTMCell' as a built-in Keras object. Consider renaming <class 'keras.layers.recurrent.LSTMCell'> to avoid naming conflicts when loading with `tf.keras.models.load_model`. If renaming is not possible, pass the object in the `custom_objects` parameter of the load function.\n",
      "WARNING:absl:<keras.layers.recurrent.LSTMCell object at 0x7f538f766b20> has the same name 'LSTMCell' as a built-in Keras object. Consider renaming <class 'keras.layers.recurrent.LSTMCell'> to avoid naming conflicts when loading with `tf.keras.models.load_model`. If renaming is not possible, pass the object in the `custom_objects` parameter of the load function.\n",
      "WARNING:absl:<keras.layers.recurrent.LSTMCell object at 0x7f538f6a4370> has the same name 'LSTMCell' as a built-in Keras object. Consider renaming <class 'keras.layers.recurrent.LSTMCell'> to avoid naming conflicts when loading with `tf.keras.models.load_model`. If renaming is not possible, pass the object in the `custom_objects` parameter of the load function.\n"
     ]
    },
    {
     "name": "stdout",
     "output_type": "stream",
     "text": [
      "204/204 [==============================] - 206s 1s/step - loss: 0.4906 - accuracy: 0.7197 - val_loss: 0.6731 - val_accuracy: 0.5607\n",
      "Epoch 13/40\n",
      "204/204 [==============================] - ETA: 0s - loss: 0.4842 - accuracy: 0.7233\n",
      "Epoch 00013: val_accuracy did not improve from 0.56066\n",
      "204/204 [==============================] - 185s 908ms/step - loss: 0.4842 - accuracy: 0.7233 - val_loss: 0.6805 - val_accuracy: 0.5374\n",
      "Epoch 14/40\n",
      "204/204 [==============================] - ETA: 0s - loss: 0.4762 - accuracy: 0.7308\n",
      "Epoch 00014: val_accuracy did not improve from 0.56066\n",
      "204/204 [==============================] - 187s 915ms/step - loss: 0.4762 - accuracy: 0.7308 - val_loss: 0.6859 - val_accuracy: 0.5514\n",
      "Epoch 15/40\n",
      "204/204 [==============================] - ETA: 0s - loss: 0.4676 - accuracy: 0.7352\n",
      "Epoch 00015: val_accuracy did not improve from 0.56066\n",
      "204/204 [==============================] - 192s 941ms/step - loss: 0.4676 - accuracy: 0.7352 - val_loss: 0.6964 - val_accuracy: 0.5322\n"
     ]
    }
   ],
   "source": [
    "checkpoint = ModelCheckpoint(filepath=f\"models/{NAME}\", monitor='val_accuracy', verbose=1, save_best_only=True, mode='max') # saves only the best ones\n",
    "earlystopping = EarlyStopping(monitor='val_loss', patience=4)\n",
    "cb = [checkpoint, earlystopping]\n",
    "\n",
    "history = model.fit(\n",
    "        train_x, train_y,\n",
    "        batch_size=BATCH_SIZE,\n",
    "        epochs=EPOCHS,\n",
    "        validation_data=(validation_x, validation_y),\n",
    "        callbacks=cb)\n"
   ]
  },
  {
   "cell_type": "code",
   "execution_count": 9,
   "metadata": {
    "colab": {
     "base_uri": "https://localhost:8080/",
     "height": 556
    },
    "id": "Eye28PNHttoz",
    "outputId": "b0babe6b-b99f-4306-9c33-c12d2ed431a2"
   },
   "outputs": [
    {
     "name": "stdout",
     "output_type": "stream",
     "text": [
      "Trained model:\n",
      "        loss  accuracy  val_loss  val_accuracy\n",
      "14  0.467647  0.735235  0.696411      0.532228 \n",
      "\n"
     ]
    },
    {
     "data": {
      "image/png": "[encoded data removed]",
      "text/plain": [
       "<Figure size 576x576 with 1 Axes>"
      ]
     },
     "metadata": {
      "needs_background": "light"
     },
     "output_type": "display_data"
    }
   ],
   "source": [
    "def plot_history(history):\n",
    "        hist_df = pd.DataFrame(history.history)\n",
    "        print(f'Trained model:')\n",
    "        print(hist_df.tail(1), '\\n')\n",
    "        hist_df_short = hist_df[['accuracy', 'val_accuracy', 'val_loss']]\n",
    "        hist_df_short.plot(figsize=(8,8), grid=True)\n",
    "\n",
    "plot_history(history)"
   ]
  },
  {
   "cell_type": "code",
   "execution_count": 10,
   "metadata": {
    "colab": {
     "base_uri": "https://localhost:8080/"
    },
    "id": "suv_B7cOvYq8",
    "outputId": "63ed1bbf-4905-4cfb-9654-ac44a6a76a54"
   },
   "outputs": [
    {
     "name": "stderr",
     "output_type": "stream",
     "text": [
      "WARNING:absl:Found untraced functions such as lstm_cell_layer_call_fn, lstm_cell_layer_call_and_return_conditional_losses, lstm_cell_1_layer_call_fn, lstm_cell_1_layer_call_and_return_conditional_losses, lstm_cell_2_layer_call_fn while saving (showing 5 of 15). These functions will not be directly callable after loading.\n"
     ]
    },
    {
     "name": "stdout",
     "output_type": "stream",
     "text": [
      "INFO:tensorflow:Assets written to: /home/csand/crypto-bot/models/LSTM-2021-11-17 07-39-18/assets\n"
     ]
    },
    {
     "name": "stderr",
     "output_type": "stream",
     "text": [
      "INFO:tensorflow:Assets written to: /home/csand/crypto-bot/models/LSTM-2021-11-17 07-39-18/assets\n",
      "WARNING:absl:<keras.layers.recurrent.LSTMCell object at 0x7f538f779910> has the same name 'LSTMCell' as a built-in Keras object. Consider renaming <class 'keras.layers.recurrent.LSTMCell'> to avoid naming conflicts when loading with `tf.keras.models.load_model`. If renaming is not possible, pass the object in the `custom_objects` parameter of the load function.\n",
      "WARNING:absl:<keras.layers.recurrent.LSTMCell object at 0x7f538f766b20> has the same name 'LSTMCell' as a built-in Keras object. Consider renaming <class 'keras.layers.recurrent.LSTMCell'> to avoid naming conflicts when loading with `tf.keras.models.load_model`. If renaming is not possible, pass the object in the `custom_objects` parameter of the load function.\n",
      "WARNING:absl:<keras.layers.recurrent.LSTMCell object at 0x7f538f6a4370> has the same name 'LSTMCell' as a built-in Keras object. Consider renaming <class 'keras.layers.recurrent.LSTMCell'> to avoid naming conflicts when loading with `tf.keras.models.load_model`. If renaming is not possible, pass the object in the `custom_objects` parameter of the load function.\n"
     ]
    },
    {
     "name": "stdout",
     "output_type": "stream",
     "text": [
      "TEST LOSS: 0.7767418622970581\n",
      "TEST ACCURACY: 0.39603960514068604\n"
     ]
    }
   ],
   "source": [
    "model_path = f'{drive_path}models/{NAME}'\n",
    "model.save(model_path)\n",
    "\n",
    "model = keras.models.load_model(model_path)\n",
    "score = model.evaluate(test_x, test_y, verbose=10)  # evaluate against unseen test data\n",
    "print(\"TEST LOSS:\", score[0])\n",
    "print(\"TEST ACCURACY:\", score[1])"
   ]
  },
  {
   "cell_type": "code",
   "execution_count": 12,
   "metadata": {
    "id": "xd9UqtJ1hmSD"
   },
   "outputs": [
    {
     "name": "stderr",
     "output_type": "stream",
     "text": [
      "2021-11-17 09:33:58.983800: W tensorflow/compiler/mlir/lite/python/tf_tfl_flatbuffer_helpers.cc:363] Ignored output_format.\n",
      "2021-11-17 09:33:58.983967: W tensorflow/compiler/mlir/lite/python/tf_tfl_flatbuffer_helpers.cc:366] Ignored drop_control_dependency.\n",
      "2021-11-17 09:33:58.983975: W tensorflow/compiler/mlir/lite/python/tf_tfl_flatbuffer_helpers.cc:372] Ignored change_concat_input_ranges.\n",
      "2021-11-17 09:33:58.984521: I tensorflow/cc/saved_model/reader.cc:43] Reading SavedModel from: /home/csand/crypto-bot/models/LSTM-2021-11-17 07-39-18\n",
      "2021-11-17 09:33:59.096647: I tensorflow/cc/saved_model/reader.cc:107] Reading meta graph with tags { serve }\n",
      "2021-11-17 09:33:59.096748: I tensorflow/cc/saved_model/reader.cc:148] Reading SavedModel debug info (if present) from: /home/csand/crypto-bot/models/LSTM-2021-11-17 07-39-18\n",
      "2021-11-17 09:33:59.590719: I tensorflow/cc/saved_model/loader.cc:210] Restoring SavedModel bundle.\n",
      "2021-11-17 09:34:00.289759: I tensorflow/cc/saved_model/loader.cc:194] Running initialization op on SavedModel bundle at path: /home/csand/crypto-bot/models/LSTM-2021-11-17 07-39-18\n",
      "2021-11-17 09:34:00.867165: I tensorflow/cc/saved_model/loader.cc:283] SavedModel load for tags { serve }; Status: success: OK. Took 1882644 microseconds.\n",
      "2021-11-17 09:34:03.081834: W tensorflow/compiler/mlir/lite/flatbuffer_export.cc:1891] TFLite interpreter needs to link Flex delegate in order to run the model since it contains the following Select TFop(s):\n",
      "Flex ops: FlexTensorListFromTensor, FlexTensorListGetItem, FlexTensorListReserve, FlexTensorListSetItem, FlexTensorListStack\n",
      "Details:\n",
      "\ttf.TensorListFromTensor(tensor<48x?x24xf32>, tensor<2xi32>) -> (tensor<!tf_type.variant<tensor<?x24xf32>>>) : {device = \"\"}\n",
      "\ttf.TensorListFromTensor(tensor<?x?x128xf32>, tensor<2xi32>) -> (tensor<!tf_type.variant<tensor<?x128xf32>>>) : {device = \"\"}\n",
      "\ttf.TensorListGetItem(tensor<!tf_type.variant<tensor<?x128xf32>>>, tensor<i32>, tensor<2xi32>) -> (tensor<?x128xf32>) : {device = \"\"}\n",
      "\ttf.TensorListGetItem(tensor<!tf_type.variant<tensor<?x24xf32>>>, tensor<i32>, tensor<2xi32>) -> (tensor<?x24xf32>) : {device = \"\"}\n",
      "\ttf.TensorListReserve(tensor<2xi32>, tensor<i32>) -> (tensor<!tf_type.variant<tensor<?x128xf32>>>) : {device = \"\"}\n",
      "\ttf.TensorListSetItem(tensor<!tf_type.variant<tensor<?x128xf32>>>, tensor<i32>, tensor<?x128xf32>) -> (tensor<!tf_type.variant<tensor<?x128xf32>>>) : {device = \"\"}\n",
      "\ttf.TensorListStack(tensor<!tf_type.variant<tensor<?x128xf32>>>, tensor<2xi32>) -> (tensor<?x?x128xf32>) : {device = \"\", num_elements = -1 : i64}\n",
      "See instructions: https://www.tensorflow.org/lite/guide/ops_select\n",
      "WARNING:absl:Buffer deduplication procedure will be skipped when flatbuffer library is not properly loaded\n"
     ]
    },
    {
     "name": "stdout",
     "output_type": "stream",
     "text": [
      "Started writing\n",
      "Finished\n"
     ]
    }
   ],
   "source": [
    "#import tensorflow as tf\n",
    "#from config import MODEL_PATH\n",
    "\n",
    "# Convert the model\n",
    "converter = tf.lite.TFLiteConverter.from_saved_model(model_path)  # path to the SavedModel directory\n",
    "converter.experimental_new_converter = True\n",
    "converter.target_spec.supported_ops =[tf.lite.OpsSet.TFLITE_BUILTINS, tf.lite.OpsSet.SELECT_TF_OPS]\n",
    "tflite_model = converter.convert()\n",
    "\n",
    "# Save it\n",
    "with open('model2.tflite', 'wb') as f:\n",
    "    print(\"Started writing\")\n",
    "    f.write(tflite_model)\n",
    "    print(\"Finished\")\n",
    "\n"
   ]
  },
  {
   "cell_type": "code",
   "execution_count": null,
   "metadata": {},
   "outputs": [],
   "source": []
  }
 ],
 "metadata": {
  "accelerator": "GPU",
  "colab": {
   "collapsed_sections": [],
   "name": "model3.ipynb",
   "provenance": []
  },
  "kernelspec": {
   "display_name": "Python 3 (ipykernel)",
   "language": "python",
   "name": "python3"
  },
  "language_info": {
   "codemirror_mode": {
    "name": "ipython",
    "version": 3
   },
   "file_extension": ".py",
   "mimetype": "text/x-python",
   "name": "python",
   "nbconvert_exporter": "python",
   "pygments_lexer": "ipython3",
   "version": "3.8.10"
  }
 },
 "nbformat": 4,
 "nbformat_minor": 1
}
