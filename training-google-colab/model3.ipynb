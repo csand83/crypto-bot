{
  "nbformat": 4,
  "nbformat_minor": 0,
  "metadata": {
    "colab": {
      "name": "model3.ipynb",
      "provenance": [],
      "collapsed_sections": []
    },
    "kernelspec": {
      "name": "python3",
      "display_name": "Python 3"
    },
    "language_info": {
      "name": "python"
    },
    "accelerator": "GPU"
  },
  "cells": [
    {
      "cell_type": "code",
      "metadata": {
        "id": "sfwZbBSN6dnu"
      },
      "source": [
        "from sklearn import preprocessing\n",
        "from collections import deque\n",
        "from datetime import datetime\n",
        "import random\n",
        "import time\n",
        "import numpy as np\n",
        "import pandas as pd\n",
        "import tensorflow as tf\n",
        "from tensorflow import keras\n",
        "from tensorflow.keras.models import Sequential\n",
        "from tensorflow.keras.layers import Dense, Dropout, LSTM, BatchNormalization\n",
        "from tensorflow.python.keras.layers import CuDNNLSTM\n",
        "from tensorflow.keras.callbacks import ModelCheckpoint, EarlyStopping\n",
        "\n",
        "drive_path = f'drive/MyDrive/Colab Notebooks/crypto_prediction/model3/'"
      ],
      "execution_count": 1,
      "outputs": []
    },
    {
      "cell_type": "code",
      "metadata": {
        "id": "SYa7ACGv6xuU"
      },
      "source": [
        "pd.set_option('display.max_columns', None)\n",
        "pd.set_option('display.expand_frame_repr', False)\n",
        "\n",
        "# ratios = [\"BTCUSDT\", \"ETHUSDT\", \"NANOUSDT\"]\n",
        "ratios = [\"BTCUSDT\", \"LTCUSDT\", \"ETHUSDT\", \"BNBUSDT\",\n",
        "          \"ADAUSDT\", \"BTTUSDT\", \"DASHUSDT\", \"XMRUSDT\",\n",
        "          \"NANOUSDT\", \"DOGEUSDT\", \"XLMUSDT\", \"BCHUSDT\"]\n",
        "RATIO_TO_PREDICT = \"BTCUSDT\"\n",
        "\n",
        "SEQ_LEN = 48\n",
        "FUTURE_PERIOD_PREDICT = 1\n",
        "EPOCHS = 40\n",
        "BATCH_SIZE = 64\n",
        "current_time = datetime.utcnow().strftime('%Y-%m-%d %H-%M-%S')\n",
        "NAME = f\"LSTM-{current_time}\"\n",
        "\n",
        "def construct_main_df(ratios):\n",
        "    main_df = pd.DataFrame()\n",
        "    # 'unix,date,symbol,open,high,low,close,Volume LTC,Volume USDT,tradecount'\n",
        "    for ratio in ratios:\n",
        "        dataset = f\"{drive_path}data/Binance_{ratio}_1h.csv\"\n",
        "        df = pd.read_csv(dataset, nrows=None, skiprows=None, parse_dates=['date'], usecols=[0, 1, 2])  # todo\n",
        "        df.set_index(\"date\", inplace=True)\n",
        "\n",
        "        if len(main_df) == 0:\n",
        "            main_df = df\n",
        "        else:\n",
        "            main_df = main_df.join(df)\n",
        "\n",
        "    # in this case it reduces main_df length to the length of pair with the smallest data\n",
        "    main_df.dropna(how='any', inplace=True)\n",
        "\n",
        "    # we determine targets by making ['future'] column with shifted rows,\n",
        "    # and then if its price is higher than current day setting ['target'] to 1, and 0 otherwise\n",
        "    main_df['future'] = main_df[f\"{RATIO_TO_PREDICT}_close\"].shift(-FUTURE_PERIOD_PREDICT)\n",
        "    main_df['target'] = list(map(classify, main_df[f\"{RATIO_TO_PREDICT}_close\"], main_df[\"future\"]))\n",
        "    main_df.drop('future', 1, inplace=True)  # future column is no longer needed, used only to determine target column\n",
        "    # rows with future = NaN also are dropped here\n",
        "    return main_df\n",
        "\n",
        "def classify(current, future):\n",
        "    return 1 if float(future) > float(current) else 0\n",
        "\n",
        "def split_main_df(main_df, train_split, validation_split, test_split):\n",
        "    # [train train train train_index val val val val_index test test test_index]\n",
        "    train_index = int(train_split * len(main_df))  # last indexes\n",
        "    validation_index = int(train_index + validation_split * len(main_df))\n",
        "    test_index = test_split  # we don't really need to use it, its always the last index\n",
        "\n",
        "    train_df = main_df.iloc[:train_index]\n",
        "    validation_df = main_df.iloc[train_index:validation_index]\n",
        "    test_df = main_df.iloc[validation_index:]\n",
        "    return train_df, validation_df, test_df\n",
        "\n",
        "# percentage change and scaling\n",
        "def preprocess_data(df):\n",
        "    df = df.copy()  # fixes random SettingWithCopyWarning appearing with pct_change and preprocessing.scale\n",
        "    for col in df.columns:\n",
        "        if col != \"target\":\n",
        "            df[col] = df[col].pct_change()  # converted to percentage change\n",
        "            # example:\n",
        "            # hour 1:00 close = 93.13, hour 2:00 close = 92.41, so\n",
        "            # 93.13 + 93.13 * x = 92.41, x = -0.007731\n",
        "            # so percentage change of 1.0 means doubling the price\n",
        "            # first row (the oldest values) is being filled with NaN percentage, but we don't want to drop whole row yet\n",
        "            # so we wait until loop ends (we will have whole row filled with nans)\n",
        "    df.dropna(inplace=True)\n",
        "    # print('b', df.shape, df.isnull().values.any())\n",
        "    for col in df.columns:\n",
        "        if col != \"target\":\n",
        "            # scaling should be used after splitting to training and test set - leaks data from test set to training\n",
        "            df[col] = preprocessing.scale(df[col].values)  # normalizes to [-1, +1]\n",
        "            # df[col] = preprocessing.StandardScaler().fit_transform(df[col].values.reshape(-1, 1)) # it does the same\n",
        "            # scales the data so it has mean = 0, standard deviation = 1, variance = 1\n",
        "            # it can be checked before and after with e.g. print(df['BTCUSDT_close'].mean())  .std()  .var()\n",
        "\n",
        "    sequential_data = []\n",
        "    prev_days = deque(maxlen=SEQ_LEN)  # list of SEQ_LEN items, we append to it, as it exceed, it pops old values\n",
        "\n",
        "    for i in df.values:\n",
        "        prev_days.append([n for n in i[:-1]])  # set of price and volume features added (-1 so without target)\n",
        "        if len(prev_days) == SEQ_LEN:\n",
        "            sequential_data.append([np.array(prev_days), i[-1]])\n",
        "    # print(len(sequential_data))\n",
        "    # ok so the sequences are like this ([a, b, 1] is single prev_days) (* and ^ just to point where it goes):\n",
        "    # [([[a, b] [c, d], [e, f]], 1*)   ([[c, d] [e, f] [g, h]], 1) ... ([[g, h], [i, j], [k, l]], 0^)]\n",
        "    random.shuffle(sequential_data)\n",
        "\n",
        "\n",
        "    buys = []  # list that will store our buy sequences and targets\n",
        "    sells = []  # list that will store our sell sequences and targets\n",
        "\n",
        "    for seq, target in sequential_data:  # iterate over the sequential data\n",
        "        if target == 0:  # if it's a \"not buy\"\n",
        "            sells.append([seq, target])  # append to sells list\n",
        "        elif target == 1:  # otherwise if the target is a 1...\n",
        "            buys.append([seq, target])  # it's a buy!\n",
        "\n",
        "    random.shuffle(buys)  # shuffle the buys\n",
        "    random.shuffle(sells)  # shuffle the sells\n",
        "\n",
        "    lower = min(len(buys), len(sells))  # what's the shorter length?\n",
        "\n",
        "    buys = buys[:lower]  # make sure both lists are only up to the shortest length.\n",
        "    sells = sells[:lower]  # make sure both lists are only up to the shortest length.\n",
        "\n",
        "    sequential_data = buys + sells  # concatenate lists\n",
        "    random.shuffle(\n",
        "        sequential_data)  # another shuffle, so the model doesn't get confused with all 1 class then the other.\n",
        "\n",
        "    x = []\n",
        "    y = []\n",
        "\n",
        "    for seq, target in sequential_data:\n",
        "        x.append(seq)\n",
        "        y.append(target)\n",
        "    return np.array(x), np.array(y)"
      ],
      "execution_count": 2,
      "outputs": []
    },
    {
      "cell_type": "code",
      "metadata": {
        "id": "FY9cXsAF64Uq",
        "colab": {
          "base_uri": "https://localhost:8080/"
        },
        "outputId": "d7263d26-d264-4fec-92a6-d99f22a2bc5b"
      },
      "source": [
        "time0 = time.perf_counter()\n",
        "main_df = construct_main_df(ratios)\n",
        "print(main_df.shape)\n",
        "time1 = time.perf_counter()\n",
        "print(time1 - time0)\n",
        "\n",
        "train_df, validation_df, test_df = split_main_df(main_df, train_split=0.6, validation_split=0.2, test_split=0.2)\n",
        "print(train_df.shape, validation_df.shape, test_df.shape)\n",
        "time2 = time.perf_counter()\n",
        "print(time2 - time1)\n",
        "\n",
        "train_x, train_y = preprocess_data(train_df)\n",
        "validation_x, validation_y = preprocess_data(validation_df)\n",
        "test_x, test_y = preprocess_data(test_df)\n",
        "time3 = time.perf_counter()\n",
        "print(train_x.shape, train_y.shape, validation_x.shape, validation_y.shape, test_x.shape, test_y.shape,)\n",
        "print(time3 - time2)"
      ],
      "execution_count": 3,
      "outputs": [
        {
          "output_type": "stream",
          "text": [
            "(15737, 25)\n",
            "0.4711706650000451\n",
            "(9442, 25) (3147, 25) (3148, 25)\n",
            "0.0005700589999833028\n",
            "(9134, 48, 24) (9134,) (2940, 48, 24) (2940,) (3066, 48, 24) (3066,)\n",
            "2.1966656359999774\n"
          ],
          "name": "stdout"
        }
      ]
    },
    {
      "cell_type": "code",
      "metadata": {
        "id": "JJKJcltc7kDx",
        "colab": {
          "base_uri": "https://localhost:8080/"
        },
        "outputId": "382dadb1-3de1-44fc-c440-aba94c06f01f"
      },
      "source": [
        "def build_model():\n",
        "    model = Sequential()\n",
        "    model.add(LSTM(128, input_shape=(train_x.shape[1:]), return_sequences=True))\n",
        "    # i cannot save CuDNNLSTM due to some error, not using it\n",
        "    # model.add(CuDNNLSTM(128, input_shape=(train_x.shape[1:]), return_sequences=True))\n",
        "    model.add(Dropout(0.2))\n",
        "    model.add(BatchNormalization())\n",
        "\n",
        "    model.add(LSTM(128, input_shape=(train_x.shape[1:]), return_sequences=True))\n",
        "    model.add(Dropout(0.1))\n",
        "    model.add(BatchNormalization())\n",
        "\n",
        "    model.add(LSTM(128, input_shape=(train_x.shape[1:])))\n",
        "    model.add(Dropout(0.2))\n",
        "    model.add(BatchNormalization())\n",
        "\n",
        "    model.add(Dense(32, activation=\"relu\"))\n",
        "    model.add(Dropout(0.2))\n",
        "\n",
        "    model.add(Dense(2, activation=\"softmax\"))\n",
        "\n",
        "    opt = tf.keras.optimizers.Adam(learning_rate=0.001, decay=1e-6)\n",
        "    # opt = tf.keras.optimizers.Adam()\n",
        "\n",
        "    model.compile(loss = \"sparse_categorical_crossentropy\", \n",
        "                  optimizer=opt,\n",
        "                  metrics=['accuracy'])\n",
        "\n",
        "    print(model.summary())\n",
        "    return model\n",
        "model = build_model()"
      ],
      "execution_count": 4,
      "outputs": [
        {
          "output_type": "stream",
          "text": [
            "Model: \"sequential\"\n",
            "_________________________________________________________________\n",
            "Layer (type)                 Output Shape              Param #   \n",
            "=================================================================\n",
            "lstm (LSTM)                  (None, 48, 128)           78336     \n",
            "_________________________________________________________________\n",
            "dropout (Dropout)            (None, 48, 128)           0         \n",
            "_________________________________________________________________\n",
            "batch_normalization (BatchNo (None, 48, 128)           512       \n",
            "_________________________________________________________________\n",
            "lstm_1 (LSTM)                (None, 48, 128)           131584    \n",
            "_________________________________________________________________\n",
            "dropout_1 (Dropout)          (None, 48, 128)           0         \n",
            "_________________________________________________________________\n",
            "batch_normalization_1 (Batch (None, 48, 128)           512       \n",
            "_________________________________________________________________\n",
            "lstm_2 (LSTM)                (None, 128)               131584    \n",
            "_________________________________________________________________\n",
            "dropout_2 (Dropout)          (None, 128)               0         \n",
            "_________________________________________________________________\n",
            "batch_normalization_2 (Batch (None, 128)               512       \n",
            "_________________________________________________________________\n",
            "dense (Dense)                (None, 32)                4128      \n",
            "_________________________________________________________________\n",
            "dropout_3 (Dropout)          (None, 32)                0         \n",
            "_________________________________________________________________\n",
            "dense_1 (Dense)              (None, 2)                 66        \n",
            "=================================================================\n",
            "Total params: 347,234\n",
            "Trainable params: 346,466\n",
            "Non-trainable params: 768\n",
            "_________________________________________________________________\n",
            "None\n"
          ],
          "name": "stdout"
        }
      ]
    },
    {
      "cell_type": "code",
      "metadata": {
        "colab": {
          "base_uri": "https://localhost:8080/"
        },
        "id": "HwV1fg6uttcy",
        "outputId": "007144f2-b485-4dc2-d998-666f4781a6a9"
      },
      "source": [
        "checkpoint = ModelCheckpoint(filepath=f\"models/{NAME}\", monitor='val_accuracy', verbose=1, save_best_only=True, mode='max') # saves only the best ones\n",
        "earlystopping = EarlyStopping(monitor='val_loss', patience=4)\n",
        "cb = [checkpoint, earlystopping]\n",
        "\n",
        "history = model.fit(\n",
        "        train_x, train_y,\n",
        "        batch_size=BATCH_SIZE,\n",
        "        epochs=EPOCHS,\n",
        "        validation_data=(validation_x, validation_y),\n",
        "        callbacks=cb)\n"
      ],
      "execution_count": 5,
      "outputs": [
        {
          "output_type": "stream",
          "text": [
            "Epoch 1/40\n",
            "143/143 [==============================] - 13s 23ms/step - loss: 0.7907 - accuracy: 0.5310 - val_loss: 0.6946 - val_accuracy: 0.4980\n",
            "\n",
            "Epoch 00001: val_accuracy improved from -inf to 0.49796, saving model to models/LSTM-2021-08-23 20-05-44\n"
          ],
          "name": "stdout"
        },
        {
          "output_type": "stream",
          "text": [
            "WARNING:absl:Found untraced functions such as lstm_cell_layer_call_and_return_conditional_losses, lstm_cell_layer_call_fn, lstm_cell_1_layer_call_and_return_conditional_losses, lstm_cell_1_layer_call_fn, lstm_cell_2_layer_call_and_return_conditional_losses while saving (showing 5 of 15). These functions will not be directly callable after loading.\n"
          ],
          "name": "stderr"
        },
        {
          "output_type": "stream",
          "text": [
            "INFO:tensorflow:Assets written to: models/LSTM-2021-08-23 20-05-44/assets\n"
          ],
          "name": "stdout"
        },
        {
          "output_type": "stream",
          "text": [
            "INFO:tensorflow:Assets written to: models/LSTM-2021-08-23 20-05-44/assets\n"
          ],
          "name": "stderr"
        },
        {
          "output_type": "stream",
          "text": [
            "Epoch 2/40\n",
            "143/143 [==============================] - 2s 17ms/step - loss: 0.6907 - accuracy: 0.5473 - val_loss: 0.7004 - val_accuracy: 0.5177\n",
            "\n",
            "Epoch 00002: val_accuracy improved from 0.49796 to 0.51769, saving model to models/LSTM-2021-08-23 20-05-44\n"
          ],
          "name": "stdout"
        },
        {
          "output_type": "stream",
          "text": [
            "WARNING:absl:Found untraced functions such as lstm_cell_layer_call_and_return_conditional_losses, lstm_cell_layer_call_fn, lstm_cell_1_layer_call_and_return_conditional_losses, lstm_cell_1_layer_call_fn, lstm_cell_2_layer_call_and_return_conditional_losses while saving (showing 5 of 15). These functions will not be directly callable after loading.\n"
          ],
          "name": "stderr"
        },
        {
          "output_type": "stream",
          "text": [
            "INFO:tensorflow:Assets written to: models/LSTM-2021-08-23 20-05-44/assets\n"
          ],
          "name": "stdout"
        },
        {
          "output_type": "stream",
          "text": [
            "INFO:tensorflow:Assets written to: models/LSTM-2021-08-23 20-05-44/assets\n"
          ],
          "name": "stderr"
        },
        {
          "output_type": "stream",
          "text": [
            "Epoch 3/40\n",
            "143/143 [==============================] - 2s 17ms/step - loss: 0.6819 - accuracy: 0.5651 - val_loss: 0.6283 - val_accuracy: 0.6435\n",
            "\n",
            "Epoch 00003: val_accuracy improved from 0.51769 to 0.64354, saving model to models/LSTM-2021-08-23 20-05-44\n"
          ],
          "name": "stdout"
        },
        {
          "output_type": "stream",
          "text": [
            "WARNING:absl:Found untraced functions such as lstm_cell_layer_call_and_return_conditional_losses, lstm_cell_layer_call_fn, lstm_cell_1_layer_call_and_return_conditional_losses, lstm_cell_1_layer_call_fn, lstm_cell_2_layer_call_and_return_conditional_losses while saving (showing 5 of 15). These functions will not be directly callable after loading.\n"
          ],
          "name": "stderr"
        },
        {
          "output_type": "stream",
          "text": [
            "INFO:tensorflow:Assets written to: models/LSTM-2021-08-23 20-05-44/assets\n"
          ],
          "name": "stdout"
        },
        {
          "output_type": "stream",
          "text": [
            "INFO:tensorflow:Assets written to: models/LSTM-2021-08-23 20-05-44/assets\n"
          ],
          "name": "stderr"
        },
        {
          "output_type": "stream",
          "text": [
            "Epoch 4/40\n",
            "143/143 [==============================] - 2s 17ms/step - loss: 0.6284 - accuracy: 0.6156 - val_loss: 0.6218 - val_accuracy: 0.7037\n",
            "\n",
            "Epoch 00004: val_accuracy improved from 0.64354 to 0.70374, saving model to models/LSTM-2021-08-23 20-05-44\n"
          ],
          "name": "stdout"
        },
        {
          "output_type": "stream",
          "text": [
            "WARNING:absl:Found untraced functions such as lstm_cell_layer_call_and_return_conditional_losses, lstm_cell_layer_call_fn, lstm_cell_1_layer_call_and_return_conditional_losses, lstm_cell_1_layer_call_fn, lstm_cell_2_layer_call_and_return_conditional_losses while saving (showing 5 of 15). These functions will not be directly callable after loading.\n"
          ],
          "name": "stderr"
        },
        {
          "output_type": "stream",
          "text": [
            "INFO:tensorflow:Assets written to: models/LSTM-2021-08-23 20-05-44/assets\n"
          ],
          "name": "stdout"
        },
        {
          "output_type": "stream",
          "text": [
            "INFO:tensorflow:Assets written to: models/LSTM-2021-08-23 20-05-44/assets\n"
          ],
          "name": "stderr"
        },
        {
          "output_type": "stream",
          "text": [
            "Epoch 5/40\n",
            "143/143 [==============================] - 2s 17ms/step - loss: 0.6344 - accuracy: 0.6056 - val_loss: 0.5704 - val_accuracy: 0.7007\n",
            "\n",
            "Epoch 00005: val_accuracy did not improve from 0.70374\n",
            "Epoch 6/40\n",
            "143/143 [==============================] - 2s 17ms/step - loss: 0.5978 - accuracy: 0.6362 - val_loss: 0.5423 - val_accuracy: 0.7170\n",
            "\n",
            "Epoch 00006: val_accuracy improved from 0.70374 to 0.71701, saving model to models/LSTM-2021-08-23 20-05-44\n"
          ],
          "name": "stdout"
        },
        {
          "output_type": "stream",
          "text": [
            "WARNING:absl:Found untraced functions such as lstm_cell_layer_call_and_return_conditional_losses, lstm_cell_layer_call_fn, lstm_cell_1_layer_call_and_return_conditional_losses, lstm_cell_1_layer_call_fn, lstm_cell_2_layer_call_and_return_conditional_losses while saving (showing 5 of 15). These functions will not be directly callable after loading.\n"
          ],
          "name": "stderr"
        },
        {
          "output_type": "stream",
          "text": [
            "INFO:tensorflow:Assets written to: models/LSTM-2021-08-23 20-05-44/assets\n"
          ],
          "name": "stdout"
        },
        {
          "output_type": "stream",
          "text": [
            "INFO:tensorflow:Assets written to: models/LSTM-2021-08-23 20-05-44/assets\n"
          ],
          "name": "stderr"
        },
        {
          "output_type": "stream",
          "text": [
            "Epoch 7/40\n",
            "143/143 [==============================] - 2s 17ms/step - loss: 0.5774 - accuracy: 0.6511 - val_loss: 0.5440 - val_accuracy: 0.7323\n",
            "\n",
            "Epoch 00007: val_accuracy improved from 0.71701 to 0.73231, saving model to models/LSTM-2021-08-23 20-05-44\n"
          ],
          "name": "stdout"
        },
        {
          "output_type": "stream",
          "text": [
            "WARNING:absl:Found untraced functions such as lstm_cell_layer_call_and_return_conditional_losses, lstm_cell_layer_call_fn, lstm_cell_1_layer_call_and_return_conditional_losses, lstm_cell_1_layer_call_fn, lstm_cell_2_layer_call_and_return_conditional_losses while saving (showing 5 of 15). These functions will not be directly callable after loading.\n"
          ],
          "name": "stderr"
        },
        {
          "output_type": "stream",
          "text": [
            "INFO:tensorflow:Assets written to: models/LSTM-2021-08-23 20-05-44/assets\n"
          ],
          "name": "stdout"
        },
        {
          "output_type": "stream",
          "text": [
            "INFO:tensorflow:Assets written to: models/LSTM-2021-08-23 20-05-44/assets\n"
          ],
          "name": "stderr"
        },
        {
          "output_type": "stream",
          "text": [
            "Epoch 8/40\n",
            "143/143 [==============================] - 2s 17ms/step - loss: 0.5530 - accuracy: 0.6632 - val_loss: 0.5340 - val_accuracy: 0.7252\n",
            "\n",
            "Epoch 00008: val_accuracy did not improve from 0.73231\n",
            "Epoch 9/40\n",
            "143/143 [==============================] - 2s 17ms/step - loss: 0.5499 - accuracy: 0.6642 - val_loss: 0.5367 - val_accuracy: 0.7330\n",
            "\n",
            "Epoch 00009: val_accuracy improved from 0.73231 to 0.73299, saving model to models/LSTM-2021-08-23 20-05-44\n"
          ],
          "name": "stdout"
        },
        {
          "output_type": "stream",
          "text": [
            "WARNING:absl:Found untraced functions such as lstm_cell_layer_call_and_return_conditional_losses, lstm_cell_layer_call_fn, lstm_cell_1_layer_call_and_return_conditional_losses, lstm_cell_1_layer_call_fn, lstm_cell_2_layer_call_and_return_conditional_losses while saving (showing 5 of 15). These functions will not be directly callable after loading.\n"
          ],
          "name": "stderr"
        },
        {
          "output_type": "stream",
          "text": [
            "INFO:tensorflow:Assets written to: models/LSTM-2021-08-23 20-05-44/assets\n"
          ],
          "name": "stdout"
        },
        {
          "output_type": "stream",
          "text": [
            "INFO:tensorflow:Assets written to: models/LSTM-2021-08-23 20-05-44/assets\n"
          ],
          "name": "stderr"
        },
        {
          "output_type": "stream",
          "text": [
            "Epoch 10/40\n",
            "143/143 [==============================] - 3s 18ms/step - loss: 0.5401 - accuracy: 0.6751 - val_loss: 0.5112 - val_accuracy: 0.7333\n",
            "\n",
            "Epoch 00010: val_accuracy improved from 0.73299 to 0.73333, saving model to models/LSTM-2021-08-23 20-05-44\n"
          ],
          "name": "stdout"
        },
        {
          "output_type": "stream",
          "text": [
            "WARNING:absl:Found untraced functions such as lstm_cell_layer_call_and_return_conditional_losses, lstm_cell_layer_call_fn, lstm_cell_1_layer_call_and_return_conditional_losses, lstm_cell_1_layer_call_fn, lstm_cell_2_layer_call_and_return_conditional_losses while saving (showing 5 of 15). These functions will not be directly callable after loading.\n"
          ],
          "name": "stderr"
        },
        {
          "output_type": "stream",
          "text": [
            "INFO:tensorflow:Assets written to: models/LSTM-2021-08-23 20-05-44/assets\n"
          ],
          "name": "stdout"
        },
        {
          "output_type": "stream",
          "text": [
            "INFO:tensorflow:Assets written to: models/LSTM-2021-08-23 20-05-44/assets\n"
          ],
          "name": "stderr"
        },
        {
          "output_type": "stream",
          "text": [
            "Epoch 11/40\n",
            "143/143 [==============================] - 3s 19ms/step - loss: 0.5340 - accuracy: 0.6775 - val_loss: 0.6029 - val_accuracy: 0.7456\n",
            "\n",
            "Epoch 00011: val_accuracy improved from 0.73333 to 0.74558, saving model to models/LSTM-2021-08-23 20-05-44\n"
          ],
          "name": "stdout"
        },
        {
          "output_type": "stream",
          "text": [
            "WARNING:absl:Found untraced functions such as lstm_cell_layer_call_and_return_conditional_losses, lstm_cell_layer_call_fn, lstm_cell_1_layer_call_and_return_conditional_losses, lstm_cell_1_layer_call_fn, lstm_cell_2_layer_call_and_return_conditional_losses while saving (showing 5 of 15). These functions will not be directly callable after loading.\n"
          ],
          "name": "stderr"
        },
        {
          "output_type": "stream",
          "text": [
            "INFO:tensorflow:Assets written to: models/LSTM-2021-08-23 20-05-44/assets\n"
          ],
          "name": "stdout"
        },
        {
          "output_type": "stream",
          "text": [
            "INFO:tensorflow:Assets written to: models/LSTM-2021-08-23 20-05-44/assets\n"
          ],
          "name": "stderr"
        },
        {
          "output_type": "stream",
          "text": [
            "Epoch 12/40\n",
            "143/143 [==============================] - 3s 18ms/step - loss: 0.5349 - accuracy: 0.6846 - val_loss: 0.5104 - val_accuracy: 0.7388\n",
            "\n",
            "Epoch 00012: val_accuracy did not improve from 0.74558\n",
            "Epoch 13/40\n",
            "143/143 [==============================] - 3s 18ms/step - loss: 0.5291 - accuracy: 0.6833 - val_loss: 0.5159 - val_accuracy: 0.7378\n",
            "\n",
            "Epoch 00013: val_accuracy did not improve from 0.74558\n",
            "Epoch 14/40\n",
            "143/143 [==============================] - 3s 18ms/step - loss: 0.5258 - accuracy: 0.6866 - val_loss: 0.5121 - val_accuracy: 0.7422\n",
            "\n",
            "Epoch 00014: val_accuracy did not improve from 0.74558\n",
            "Epoch 15/40\n",
            "143/143 [==============================] - 2s 17ms/step - loss: 0.5268 - accuracy: 0.6813 - val_loss: 0.5140 - val_accuracy: 0.7357\n",
            "\n",
            "Epoch 00015: val_accuracy did not improve from 0.74558\n",
            "Epoch 16/40\n",
            "143/143 [==============================] - 2s 17ms/step - loss: 0.5207 - accuracy: 0.6915 - val_loss: 0.5407 - val_accuracy: 0.7466\n",
            "\n",
            "Epoch 00016: val_accuracy improved from 0.74558 to 0.74660, saving model to models/LSTM-2021-08-23 20-05-44\n"
          ],
          "name": "stdout"
        },
        {
          "output_type": "stream",
          "text": [
            "WARNING:absl:Found untraced functions such as lstm_cell_layer_call_and_return_conditional_losses, lstm_cell_layer_call_fn, lstm_cell_1_layer_call_and_return_conditional_losses, lstm_cell_1_layer_call_fn, lstm_cell_2_layer_call_and_return_conditional_losses while saving (showing 5 of 15). These functions will not be directly callable after loading.\n"
          ],
          "name": "stderr"
        },
        {
          "output_type": "stream",
          "text": [
            "INFO:tensorflow:Assets written to: models/LSTM-2021-08-23 20-05-44/assets\n"
          ],
          "name": "stdout"
        },
        {
          "output_type": "stream",
          "text": [
            "INFO:tensorflow:Assets written to: models/LSTM-2021-08-23 20-05-44/assets\n"
          ],
          "name": "stderr"
        }
      ]
    },
    {
      "cell_type": "code",
      "metadata": {
        "id": "Eye28PNHttoz",
        "colab": {
          "base_uri": "https://localhost:8080/",
          "height": 556
        },
        "outputId": "b0babe6b-b99f-4306-9c33-c12d2ed431a2"
      },
      "source": [
        "def plot_history(history):\n",
        "        hist_df = pd.DataFrame(history.history)\n",
        "        print(f'Trained model:')\n",
        "        print(hist_df.tail(1), '\\n')\n",
        "        hist_df_short = hist_df[['accuracy', 'val_accuracy', 'val_loss']]\n",
        "        hist_df_short.plot(figsize=(8,8), grid=True)\n",
        "\n",
        "plot_history(history)"
      ],
      "execution_count": 7,
      "outputs": [
        {
          "output_type": "stream",
          "text": [
            "Trained model:\n",
            "        loss  accuracy  val_loss  val_accuracy\n",
            "15  0.520694  0.691482  0.540717      0.746599 \n",
            "\n"
          ],
          "name": "stdout"
        },
        {
          "output_type": "display_data",
          "data": {
            "image/png": "[encoded data removed]",
            "text/plain": [
              "<Figure size 576x576 with 1 Axes>"
            ]
          },
          "metadata": {
            "needs_background": "light"
          }
        }
      ]
    },
    {
      "cell_type": "code",
      "metadata": {
        "id": "suv_B7cOvYq8",
        "colab": {
          "base_uri": "https://localhost:8080/"
        },
        "outputId": "63ed1bbf-4905-4cfb-9654-ac44a6a76a54"
      },
      "source": [
        "model_path = f'{drive_path}models/{NAME}'\n",
        "model.save(model_path)\n",
        "\n",
        "model = keras.models.load_model(model_path)\n",
        "score = model.evaluate(test_x, test_y, verbose=10)  # evaluate against unseen test data\n",
        "print(\"TEST LOSS:\", score[0])\n",
        "print(\"TEST ACCURACY:\", score[1])"
      ],
      "execution_count": 8,
      "outputs": [
        {
          "output_type": "stream",
          "text": [
            "WARNING:absl:Found untraced functions such as lstm_cell_layer_call_and_return_conditional_losses, lstm_cell_layer_call_fn, lstm_cell_1_layer_call_and_return_conditional_losses, lstm_cell_1_layer_call_fn, lstm_cell_2_layer_call_and_return_conditional_losses while saving (showing 5 of 15). These functions will not be directly callable after loading.\n"
          ],
          "name": "stderr"
        },
        {
          "output_type": "stream",
          "text": [
            "INFO:tensorflow:Assets written to: drive/MyDrive/Colab Notebooks/crypto_prediction/model3/models/LSTM-2021-08-23 20-05-44/assets\n"
          ],
          "name": "stdout"
        },
        {
          "output_type": "stream",
          "text": [
            "INFO:tensorflow:Assets written to: drive/MyDrive/Colab Notebooks/crypto_prediction/model3/models/LSTM-2021-08-23 20-05-44/assets\n"
          ],
          "name": "stderr"
        },
        {
          "output_type": "stream",
          "text": [
            "TEST LOSS: 0.6933889985084534\n",
            "TEST ACCURACY: 0.5228310227394104\n"
          ],
          "name": "stdout"
        }
      ]
    },
    {
      "cell_type": "code",
      "metadata": {
        "id": "xd9UqtJ1hmSD"
      },
      "source": [
        "\n"
      ],
      "execution_count": null,
      "outputs": []
    }
  ]
}